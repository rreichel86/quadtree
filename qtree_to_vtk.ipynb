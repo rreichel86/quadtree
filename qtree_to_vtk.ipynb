{
 "cells": [
  {
   "cell_type": "code",
   "execution_count": 108,
   "id": "0f98030f",
   "metadata": {},
   "outputs": [
    {
     "name": "stdout",
     "output_type": "stream",
     "text": [
      "Writing ./src/elmtData.py\n"
     ]
    }
   ],
   "source": [
    "%%writefile ./src/elmtData.py\n",
    "\n",
    "class Element:\n",
    "    def __init__(self, id, number_of_nodes, material_set_id, node_ids=None):\n",
    "        self._id = id\n",
    "        self._material_set_id = material_set_id\n",
    "        self._number_of_nodes = number_of_nodes\n",
    "        if node_ids is None:\n",
    "            self._node_ids = []\n",
    "        else:\n",
    "            self._node_ids = node_ids\n",
    "    \n",
    "    @property\n",
    "    def id(self):\n",
    "        return self._id\n",
    "        \n",
    "    @property\n",
    "    def material_set_id(self):\n",
    "        return self._material_set_id\n",
    "\n",
    "    @property\n",
    "    def number_of_nodes(self):\n",
    "        return self._number_of_nodes\n",
    "\n",
    "    @property\n",
    "    def node_ids(self):\n",
    "        return self._node_ids\n",
    "\n",
    "    @node_ids.setter\n",
    "    def node_ids(self, node_ids):\n",
    "        if self._node_ids is None:\n",
    "            self._node_ids = node_ids\n",
    "        \n",
    "class Node_2d:\n",
    "    def __init__(self, nro, x_coord, y_coord):\n",
    "        self._nro = nro\n",
    "        self._x = x_coord\n",
    "        self._y = y_coord\n",
    "\n",
    "    @property\n",
    "    def nro(self):\n",
    "        return self._nro\n",
    "    \n",
    "    @property\n",
    "    def coords(self):\n",
    "        return [self._x, self._y]\n",
    "\n"
   ]
  },
  {
   "cell_type": "code",
   "execution_count": 9,
   "id": "d5ceb8b4",
   "metadata": {},
   "outputs": [],
   "source": [
    "import sys\n",
    "import vtk\n",
    "sys.path.append(\"./src/\")\n",
    "from elmtData import Node_2d, Element\n",
    "\n",
    "\n",
    "\n",
    "list_of_nodes = []\n",
    "list_of_elements = []\n",
    "\n",
    "\n",
    "# Read elements from a file\n",
    "# nro, nnodes, mat_nro, nodes\n",
    "with open('./Output/mesh/selm.txt') as elmt_data:\n",
    "    lines = elmt_data.readlines()\n",
    "    for line in lines:\n",
    "        elmt = list(map(int, line.split()))\n",
    "        id, number_of_nodes, material_set_id, *node_ids = elmt\n",
    "        node_ids = node_ids[:number_of_nodes]\n",
    "        list_of_elements.append( Element(id, number_of_nodes, material_set_id, node_ids) )\n",
    "\n",
    "\n",
    "\n",
    "\n"
   ]
  },
  {
   "cell_type": "code",
   "execution_count": 10,
   "id": "211af8b0-3a09-4b63-b3e8-f34095ec6006",
   "metadata": {},
   "outputs": [],
   "source": [
    "# Read nodes from a file\n",
    "# nro, x-coord, y-coord\n",
    "with open('./Output/mesh/scor.txt') as node_data:\n",
    "    lines = node_data.readlines()\n",
    "    for line in lines:\n",
    "        first, *rest = line.split()\n",
    "        id = int(first)\n",
    "        coords = list(map(float, rest))\n",
    "        list_of_nodes.append( Node_2d(id, *coords) )\n",
    "\n"
   ]
  },
  {
   "cell_type": "code",
   "execution_count": 11,
   "id": "b19c3126-8104-49b0-9d0b-ff17edd4636e",
   "metadata": {},
   "outputs": [],
   "source": [
    "number_of_elements = len(list_of_elements)\n",
    "number_of_nodes = len(list_of_nodes)"
   ]
  },
  {
   "cell_type": "code",
   "execution_count": 12,
   "id": "a59be00d",
   "metadata": {},
   "outputs": [],
   "source": [
    "qtree_vtk_dataset = vtk.vtkUnstructuredGrid() \n",
    "\n",
    "points = vtk.vtkPoints()\n",
    "for id in range(number_of_nodes):\n",
    "    points.InsertPoint(id, [*list_of_nodes[id].coords, 0])\n",
    "qtree_vtk_dataset.SetPoints(points)\n",
    "\n",
    "qtree_vtk_dataset.Allocate(number_of_elements)\n",
    "for id in range(number_of_elements):\n",
    "    point_ids = list(map(lambda a: a - 1, list_of_elements[id].node_ids))\n",
    "    num_point_ids = list_of_elements[id].number_of_nodes\n",
    "    qtree_vtk_dataset.InsertNextCell(7,num_point_ids,point_ids)\n",
    "\n",
    "\n",
    "\n",
    "\n"
   ]
  },
  {
   "cell_type": "code",
   "execution_count": 13,
   "id": "ab4d1088-eb88-474f-bdb4-fc006df3b13b",
   "metadata": {},
   "outputs": [
    {
     "data": {
      "text/plain": [
       "1"
      ]
     },
     "execution_count": 13,
     "metadata": {},
     "output_type": "execute_result"
    }
   ],
   "source": [
    "writer = vtk.vtkXMLUnstructuredGridWriter()\n",
    "writer.SetFileName(\"output.vtu\")\n",
    "writer.SetInputData(qtree_vtk_dataset)\n",
    "writer.Write()"
   ]
  },
  {
   "cell_type": "code",
   "execution_count": null,
   "id": "874793c1-51e9-4b60-88f1-56699fcf8e26",
   "metadata": {},
   "outputs": [],
   "source": []
  }
 ],
 "metadata": {
  "kernelspec": {
   "display_name": "Python 3 (ipykernel)",
   "language": "python",
   "name": "python3"
  },
  "language_info": {
   "codemirror_mode": {
    "name": "ipython",
    "version": 3
   },
   "file_extension": ".py",
   "mimetype": "text/x-python",
   "name": "python",
   "nbconvert_exporter": "python",
   "pygments_lexer": "ipython3",
   "version": "3.11.4"
  }
 },
 "nbformat": 4,
 "nbformat_minor": 5
}
