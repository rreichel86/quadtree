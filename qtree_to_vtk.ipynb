{
 "cells": [
  {
   "cell_type": "code",
   "execution_count": 35,
   "id": "0f98030f",
   "metadata": {
    "editable": true,
    "slideshow": {
     "slide_type": ""
    },
    "tags": []
   },
   "outputs": [
    {
     "name": "stdout",
     "output_type": "stream",
     "text": [
      "Overwriting ./src/elmtData.py\n"
     ]
    }
   ],
   "source": [
    "%%writefile ./src/elmtData.py\n",
    "\n",
    "class Element:\n",
    "    def __init__(self, id, number_of_nodes, material_set_id, node_ids=None):\n",
    "        self._id = id\n",
    "        self._material_set_id = material_set_id\n",
    "        self._number_of_nodes = number_of_nodes\n",
    "        if node_ids is None:\n",
    "            self._node_ids = []\n",
    "        else:\n",
    "            self._node_ids = node_ids\n",
    "    \n",
    "    @property\n",
    "    def id(self):\n",
    "        return self._id\n",
    "        \n",
    "    @property\n",
    "    def material_set_id(self):\n",
    "        return self._material_set_id\n",
    "\n",
    "    @property\n",
    "    def number_of_nodes(self):\n",
    "        return self._number_of_nodes\n",
    "\n",
    "    @property\n",
    "    def node_ids(self):\n",
    "        return self._node_ids\n",
    "\n",
    "    @node_ids.setter\n",
    "    def node_ids(self, node_ids):\n",
    "        if self._node_ids is None:\n",
    "            self._node_ids = node_ids\n",
    "        \n",
    "class Node_2d:\n",
    "    def __init__(self, nro, x_coord, y_coord):\n",
    "        self._nro = nro\n",
    "        self._x = x_coord\n",
    "        self._y = y_coord\n",
    "\n",
    "    @property\n",
    "    def nro(self):\n",
    "        return self._nro\n",
    "    \n",
    "    @property\n",
    "    def coords(self):\n",
    "        return [self._x, self._y]\n",
    "\n"
   ]
  },
  {
   "cell_type": "markdown",
   "id": "63d5baf7-b2f9-45e6-a946-13471b7aa2b8",
   "metadata": {},
   "source": [
    "## Read the Data"
   ]
  },
  {
   "cell_type": "code",
   "execution_count": 36,
   "id": "d5ceb8b4",
   "metadata": {},
   "outputs": [
    {
     "name": "stdout",
     "output_type": "stream",
     "text": [
      "Overwriting qtree_to_vtk.py\n"
     ]
    }
   ],
   "source": [
    "%%writefile qtree_to_vtk.py\n",
    "import sys\n",
    "import vtk\n",
    "sys.path.append(\"./src/\")\n",
    "from elmtData import Node_2d, Element\n",
    "\n",
    "list_of_nodes = []\n",
    "list_of_elements = []\n",
    "\n",
    "# Read elements from a file\n",
    "# nro, nnodes, mat_nro, nodes\n",
    "with open('./Output/mesh/selm.txt') as elmt_data:\n",
    "    lines = elmt_data.readlines()\n",
    "    for line in lines:\n",
    "        elmt = list(map(int, line.split()))\n",
    "        id, number_of_nodes, material_set_id, *node_ids = elmt\n",
    "        node_ids = node_ids[:number_of_nodes]\n",
    "        list_of_elements.append( Element(id, number_of_nodes, material_set_id, node_ids) )\n"
   ]
  },
  {
   "cell_type": "code",
   "execution_count": 37,
   "id": "211af8b0-3a09-4b63-b3e8-f34095ec6006",
   "metadata": {},
   "outputs": [
    {
     "name": "stdout",
     "output_type": "stream",
     "text": [
      "Appending to qtree_to_vtk.py\n"
     ]
    }
   ],
   "source": [
    "%%writefile -a qtree_to_vtk.py\n",
    "\n",
    "# Read nodes from a file\n",
    "# nro, x-coord, y-coord\n",
    "with open('./Output/mesh/scor.txt') as node_data:\n",
    "    lines = node_data.readlines()\n",
    "    for line in lines:\n",
    "        first, *rest = line.split()\n",
    "        id = int(first)\n",
    "        coords = list(map(float, rest))\n",
    "        list_of_nodes.append( Node_2d(id, *coords) )\n",
    "\n",
    "number_of_elements = len(list_of_elements)\n",
    "number_of_nodes = len(list_of_nodes)"
   ]
  },
  {
   "cell_type": "markdown",
   "id": "6ee68b08-84e0-497a-9c16-9b13fd55b414",
   "metadata": {},
   "source": [
    "## Create and Fill the VTK Data Object with the Data "
   ]
  },
  {
   "cell_type": "code",
   "execution_count": 38,
   "id": "357a5523-abc4-49c7-8f3a-ec63c521b51c",
   "metadata": {},
   "outputs": [
    {
     "name": "stdout",
     "output_type": "stream",
     "text": [
      "Appending to qtree_to_vtk.py\n"
     ]
    }
   ],
   "source": [
    "%%writefile -a qtree_to_vtk.py\n",
    "\n",
    "# Create VTK object for the data model\n",
    "qtree_vtk_dataset = vtk.vtkUnstructuredGrid() \n",
    "\n",
    "# Create the points by defining their coordinates\n",
    "points = vtk.vtkPoints()\n",
    "for id in range(number_of_nodes):\n",
    "    points.InsertPoint(id, [*list_of_nodes[id].coords, 0])\n",
    "qtree_vtk_dataset.SetPoints(points)\n",
    "\n",
    "# Create the cells by specifying connectivity\n",
    "qtree_vtk_dataset.Allocate(number_of_elements)\n",
    "for id in range(number_of_elements):\n",
    "    point_ids = list(map(lambda a: a - 1, list_of_elements[id].node_ids))\n",
    "    num_point_ids = list_of_elements[id].number_of_nodes\n",
    "    qtree_vtk_dataset.InsertNextCell(7,num_point_ids,point_ids)\n",
    "\n",
    "# Create data arrays (on cells)\n",
    "array = vtk.vtkIntArray()\n",
    "array.SetName(\"material_set_id\")\n",
    "array.SetNumberOfValues(number_of_elements)\n",
    "for id in range(number_of_elements):\n",
    "    array.SetValue(id, list_of_elements[id].material_set_id)\n",
    "qtree_vtk_dataset.GetCellData().AddArray(array)"
   ]
  },
  {
   "cell_type": "markdown",
   "id": "c4449596-45c5-43d6-90dd-27b840b8a519",
   "metadata": {},
   "source": [
    "## Write The Data to Disk\n",
    "Use the VTK writer for unstructured grids (`vtkXMLUnstructuredGridWriter`) to produce .vtu files"
   ]
  },
  {
   "cell_type": "code",
   "execution_count": 39,
   "id": "2a2a6a71-5a10-4658-9204-883d16f4a25b",
   "metadata": {},
   "outputs": [
    {
     "name": "stdout",
     "output_type": "stream",
     "text": [
      "Appending to qtree_to_vtk.py\n"
     ]
    }
   ],
   "source": [
    "%%writefile -a qtree_to_vtk.py\n",
    "\n",
    "writer = vtk.vtkXMLUnstructuredGridWriter()\n",
    "writer.SetFileName(\"./Output/parv/QtreeMesh.vtu\")\n",
    "writer.SetInputData(qtree_vtk_dataset)\n",
    "writer.Write()\n",
    "\n",
    "print(\"Done!\")"
   ]
  },
  {
   "cell_type": "code",
   "execution_count": 5,
   "id": "cad3c036-27e6-4576-98b2-620af82a45c4",
   "metadata": {},
   "outputs": [
    {
     "name": "stdout",
     "output_type": "stream",
     "text": [
      "     Done!\n"
     ]
    }
   ],
   "source": [
    "%run ./qtree_to_vtk.py"
   ]
  },
  {
   "cell_type": "code",
   "execution_count": 8,
   "id": "874793c1-51e9-4b60-88f1-56699fcf8e26",
   "metadata": {},
   "outputs": [
    {
     "name": "stdout",
     "output_type": "stream",
     "text": [
      "Overwriting plot_qtree_mesh.py\n"
     ]
    }
   ],
   "source": [
    "%%writefile plot_qtree_mesh.py\n",
    "from matplotlib.colors import ListedColormap \n",
    "import matplotlib.pyplot as plt\n",
    "\n",
    "import pyvista\n",
    "try: \n",
    "    mesh = pyvista.read('./Output/parv/QtreeMesh.vtu')\n",
    "    pyvista.set_jupyter_backend('client')\n",
    "    boring_cmap = plt.matplotlib.colormaps[\"rainbow\"]\n",
    "    mesh.plot(scalars='material_set_id', show_edges=True, cpos=\"xy\", color=True, cmap=boring_cmap)\n",
    "except FileNotFoundError:\n",
    "    print(\"File is not found.\")\n",
    "\n"
   ]
  },
  {
   "cell_type": "code",
   "execution_count": 6,
   "id": "47b582ac-da4f-4ec9-b354-202aa01774dc",
   "metadata": {},
   "outputs": [
    {
     "data": {
      "application/vnd.jupyter.widget-view+json": {
       "model_id": "b2c32207f40e4c6298e0ac84a2332bd5",
       "version_major": 2,
       "version_minor": 0
      },
      "text/plain": [
       "Widget(value=\"<iframe src='http://localhost:52594/index.html?ui=P_0x11c957bd0_0&reconnect=auto' style='width: …"
      ]
     },
     "metadata": {},
     "output_type": "display_data"
    }
   ],
   "source": [
    "qtree_grid = pyvista.UnstructuredGrid(qtree_vtk_dataset)\n",
    "a = qtree_grid.plot(scalars='material_set_id', show_edges=True, cpos=\"xy\", color=True, cmap=boring_cmap)"
   ]
  },
  {
   "cell_type": "code",
   "execution_count": null,
   "id": "3fdc959b-bb4c-4eac-b416-70862c03462a",
   "metadata": {},
   "outputs": [],
   "source": []
  }
 ],
 "metadata": {
  "kernelspec": {
   "display_name": "Python 3 (ipykernel)",
   "language": "python",
   "name": "python3"
  },
  "language_info": {
   "codemirror_mode": {
    "name": "ipython",
    "version": 3
   },
   "file_extension": ".py",
   "mimetype": "text/x-python",
   "name": "python",
   "nbconvert_exporter": "python",
   "pygments_lexer": "ipython3",
   "version": "3.11.4"
  }
 },
 "nbformat": 4,
 "nbformat_minor": 5
}
